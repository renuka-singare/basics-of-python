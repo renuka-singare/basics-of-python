{
 "cells": [
  {
   "cell_type": "code",
   "execution_count": 1,
   "id": "cc34eabc",
   "metadata": {},
   "outputs": [
    {
     "name": "stdout",
     "output_type": "stream",
     "text": [
      "true\n"
     ]
    }
   ],
   "source": [
    "x = 6\n",
    "if (type(x) is int):\n",
    "    print('true')\n",
    "else:\n",
    "    print('false')\n"
   ]
  },
  {
   "cell_type": "code",
   "execution_count": 2,
   "id": "81a91f67",
   "metadata": {},
   "outputs": [
    {
     "name": "stdout",
     "output_type": "stream",
     "text": [
      "true\n"
     ]
    }
   ],
   "source": [
    "x = 6.3\n",
    "if (type(x) is not int):\n",
    "    print('true')\n",
    "else:\n",
    "    print('false')"
   ]
  },
  {
   "cell_type": "code",
   "execution_count": 3,
   "id": "06151dbf",
   "metadata": {},
   "outputs": [
    {
     "name": "stdout",
     "output_type": "stream",
     "text": [
      "my name is renuka\n"
     ]
    }
   ],
   "source": [
    "name = 'my name is renuka'\n",
    "print(name)"
   ]
  },
  {
   "cell_type": "code",
   "execution_count": null,
   "id": "ce2366fe",
   "metadata": {},
   "outputs": [],
   "source": []
  },
  {
   "cell_type": "code",
   "execution_count": 19,
   "id": "f164f3da",
   "metadata": {},
   "outputs": [
    {
     "name": "stdout",
     "output_type": "stream",
     "text": [
      "enter your name: renuka\n",
      "hi\n"
     ]
    }
   ],
   "source": [
    "name = input('enter your name: ')\n",
    "print('hi')"
   ]
  },
  {
   "cell_type": "code",
   "execution_count": 5,
   "id": "5c079ec2",
   "metadata": {},
   "outputs": [
    {
     "name": "stdout",
     "output_type": "stream",
     "text": [
      "13\n"
     ]
    }
   ],
   "source": [
    "data = 'pyhton course'\n",
    "x = len(data)\n",
    "print(x)"
   ]
  },
  {
   "cell_type": "code",
   "execution_count": 6,
   "id": "22ff8a58",
   "metadata": {},
   "outputs": [
    {
     "name": "stdout",
     "output_type": "stream",
     "text": [
      "python course\n"
     ]
    }
   ],
   "source": [
    "data = 'python course'\n",
    "x = (data.lower())\n",
    "print(x)"
   ]
  },
  {
   "cell_type": "code",
   "execution_count": 7,
   "id": "c28e8874",
   "metadata": {},
   "outputs": [
    {
     "name": "stdout",
     "output_type": "stream",
     "text": [
      "PYTHON COURSE\n"
     ]
    }
   ],
   "source": [
    "data = 'python course'\n",
    "x = (data.upper())\n",
    "print(x)"
   ]
  },
  {
   "cell_type": "code",
   "execution_count": 8,
   "id": "86eaf5d4",
   "metadata": {},
   "outputs": [
    {
     "name": "stdout",
     "output_type": "stream",
     "text": [
      "['python', 'course']\n"
     ]
    }
   ],
   "source": [
    "data = 'python course'\n",
    "x = (data.split())\n",
    "print(x)"
   ]
  },
  {
   "cell_type": "code",
   "execution_count": 9,
   "id": "d097dc45",
   "metadata": {},
   "outputs": [
    {
     "name": "stdout",
     "output_type": "stream",
     "text": [
      "Python course\n"
     ]
    }
   ],
   "source": [
    "data = 'python course'\n",
    "x = (data.capitalize())\n",
    "print(x)"
   ]
  },
  {
   "cell_type": "code",
   "execution_count": 10,
   "id": "9814e884",
   "metadata": {},
   "outputs": [
    {
     "name": "stdout",
     "output_type": "stream",
     "text": [
      "                  python course                   \n"
     ]
    }
   ],
   "source": [
    "data = 'python course'\n",
    "x = (data.center(50))\n",
    "print(x)"
   ]
  },
  {
   "cell_type": "code",
   "execution_count": 11,
   "id": "d8695a1b",
   "metadata": {},
   "outputs": [
    {
     "name": "stdout",
     "output_type": "stream",
     "text": [
      "7\n"
     ]
    }
   ],
   "source": [
    "data = 'python course'\n",
    "x = (data.find(\"co\"))\n",
    "print(x)"
   ]
  },
  {
   "cell_type": "code",
   "execution_count": 12,
   "id": "1c3b29fe",
   "metadata": {},
   "outputs": [
    {
     "name": "stdout",
     "output_type": "stream",
     "text": [
      "3\n"
     ]
    }
   ],
   "source": [
    "data = 'python course'\n",
    "x = (data.index('h'))\n",
    "print(x)"
   ]
  },
  {
   "cell_type": "code",
   "execution_count": 13,
   "id": "4ac23610",
   "metadata": {},
   "outputs": [
    {
     "name": "stdout",
     "output_type": "stream",
     "text": [
      "True\n"
     ]
    }
   ],
   "source": [
    "data = 'pythoncourse'\n",
    "x = (data.isalpha())\n",
    "print(x)"
   ]
  },
  {
   "cell_type": "code",
   "execution_count": 14,
   "id": "ceb96866",
   "metadata": {},
   "outputs": [
    {
     "name": "stdout",
     "output_type": "stream",
     "text": [
      "True\n"
     ]
    }
   ],
   "source": [
    "data = '12345'\n",
    "x = (data.isdigit())\n",
    "print(x)"
   ]
  },
  {
   "cell_type": "code",
   "execution_count": 15,
   "id": "e5573061",
   "metadata": {},
   "outputs": [
    {
     "name": "stdout",
     "output_type": "stream",
     "text": [
      "False\n"
     ]
    }
   ],
   "source": [
    "data = 'python course'\n",
    "x = (data.isspace())\n",
    "print(x)"
   ]
  },
  {
   "cell_type": "code",
   "execution_count": 16,
   "id": "292e1700",
   "metadata": {},
   "outputs": [
    {
     "name": "stdout",
     "output_type": "stream",
     "text": [
      "True\n"
     ]
    }
   ],
   "source": [
    "data = 'Python Course'\n",
    "x = (data.istitle())\n",
    "print(x)"
   ]
  },
  {
   "cell_type": "code",
   "execution_count": 17,
   "id": "ce65ff94",
   "metadata": {},
   "outputs": [
    {
     "name": "stdout",
     "output_type": "stream",
     "text": [
      "2\n"
     ]
    }
   ],
   "source": [
    "data = \"i like an apple and also like mango\"\n",
    "x = (data.count(\"like\"))\n",
    "print(x)"
   ]
  },
  {
   "cell_type": "code",
   "execution_count": 25,
   "id": "877a08a3",
   "metadata": {},
   "outputs": [
    {
     "name": "stdout",
     "output_type": "stream",
     "text": [
      "lokesh*salman*peter\n"
     ]
    }
   ],
   "source": [
    "list=[\"lokesh\",\"salman\",\"peter\"]\n",
    "x = \"*\".join(list)\n",
    "print(x)\n",
    "    "
   ]
  },
  {
   "cell_type": "code",
   "execution_count": 26,
   "id": "a37c8fa4",
   "metadata": {},
   "outputs": [
    {
     "name": "stdout",
     "output_type": "stream",
     "text": [
      "lokesh salman peter\n"
     ]
    }
   ],
   "source": [
    "list=[\"lokesh\",\"salman\",\"peter\"]\n",
    "x = \" \".join(list)\n",
    "print(x)"
   ]
  },
  {
   "cell_type": "code",
   "execution_count": 27,
   "id": "ea5ad03d",
   "metadata": {},
   "outputs": [
    {
     "name": "stdout",
     "output_type": "stream",
     "text": [
      "lokesh_salman_peter\n"
     ]
    }
   ],
   "source": [
    "list=[\"lokesh\",\"salman\",\"peter\"]\n",
    "x = \"_\".join(list)\n",
    "print(x)"
   ]
  },
  {
   "cell_type": "code",
   "execution_count": 28,
   "id": "66775a1f",
   "metadata": {},
   "outputs": [
    {
     "name": "stdout",
     "output_type": "stream",
     "text": [
      "['monitor', 'printer', 'mouse', 'keyboard', 'HDD']\n"
     ]
    }
   ],
   "source": [
    "#adding new itmes in list\n",
    "hardware=[\"monitor\",\"printer\",\"mouse\",\"keyboard\"]\n",
    "hardware.append(\"HDD\")\n",
    "print(hardware)"
   ]
  },
  {
   "cell_type": "code",
   "execution_count": 29,
   "id": "2a601db8",
   "metadata": {},
   "outputs": [
    {
     "name": "stdout",
     "output_type": "stream",
     "text": [
      "['monitor', 'printer', 'mouse', 'keyboard', 'printer']\n"
     ]
    }
   ],
   "source": [
    "#Allows duplicate members also\n",
    "hardware=[\"monitor\",\"printer\",\"mouse\",\"keyboard\"]\n",
    "hardware.append(\"printer\")\n",
    "print(hardware)"
   ]
  },
  {
   "cell_type": "code",
   "execution_count": 30,
   "id": "87d1a0e8",
   "metadata": {},
   "outputs": [
    {
     "name": "stdout",
     "output_type": "stream",
     "text": [
      "['monitor', 'mouse', 'keyboard']\n"
     ]
    }
   ],
   "source": [
    "hardware=[\"monitor\",\"printer\",\"mouse\",\"keyboard\"]\n",
    "hardware.remove(\"printer\")\n",
    "print(hardware)\n"
   ]
  },
  {
   "cell_type": "code",
   "execution_count": 33,
   "id": "745848a5",
   "metadata": {},
   "outputs": [
    {
     "name": "stdout",
     "output_type": "stream",
     "text": [
      "[]\n"
     ]
    }
   ],
   "source": [
    "hardware=[\"monitor\",\"printer\",\"mouse\",\"keyboard\"]\n",
    "hardware.clear()\n",
    "print(hardware)"
   ]
  },
  {
   "cell_type": "code",
   "execution_count": null,
   "id": "0ffe3585",
   "metadata": {},
   "outputs": [],
   "source": []
  }
 ],
 "metadata": {
  "kernelspec": {
   "display_name": "Python 3 (ipykernel)",
   "language": "python",
   "name": "python3"
  },
  "language_info": {
   "codemirror_mode": {
    "name": "ipython",
    "version": 3
   },
   "file_extension": ".py",
   "mimetype": "text/x-python",
   "name": "python",
   "nbconvert_exporter": "python",
   "pygments_lexer": "ipython3",
   "version": "3.9.7"
  }
 },
 "nbformat": 4,
 "nbformat_minor": 5
}
