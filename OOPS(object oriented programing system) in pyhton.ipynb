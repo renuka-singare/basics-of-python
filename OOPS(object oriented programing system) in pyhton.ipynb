{
 "cells": [
  {
   "cell_type": "code",
   "execution_count": 1,
   "id": "1d83916f",
   "metadata": {},
   "outputs": [
    {
     "name": "stdout",
     "output_type": "stream",
     "text": [
      "your name is:  rahul\n",
      "your roll no. is:  101\n",
      "your name is:  sunil\n",
      "your roll no. is:  102\n"
     ]
    }
   ],
   "source": [
    "#class & object example 1:\n",
    "class schoolfrom:\n",
    "    def printDetails(self):\n",
    "        print(\"your name is: \",self.name)\n",
    "        print(\"your roll no. is: \",self.rollno)\n",
    "\n",
    "rahul = schoolfrom()        \n",
    "rahul.name=\"rahul\"\n",
    "rahul.rollno=\"101\"\n",
    "rahul.printDetails()\n",
    "\n",
    "sunil= schoolfrom()\n",
    "sunil.name=\"sunil\"\n",
    "sunil.rollno=\"102\"\n",
    "sunil.printDetails()"
   ]
  },
  {
   "cell_type": "code",
   "execution_count": 2,
   "id": "b7bb9511",
   "metadata": {},
   "outputs": [
    {
     "name": "stdout",
     "output_type": "stream",
     "text": [
      "your name is:  rahul\n",
      "your roll no. is:  101\n",
      "kkk\n",
      "your name is:  sunil\n",
      "your roll no. is:  102\n",
      "dps\n"
     ]
    }
   ],
   "source": [
    "# class & object example 2:\n",
    "class schoolfrom:\n",
    "    schoolname=\"dps\"\n",
    "    def printDetails(self):\n",
    "        print(\"your name is: \",self.name)\n",
    "        print(\"your roll no. is: \",self.rollno)\n",
    "\n",
    "rahul = schoolfrom()        \n",
    "rahul.name=\"rahul\"\n",
    "rahul.rollno=\"101\"\n",
    "rahul.printDetails()\n",
    "rahul.schoolname=\"kkk\"\n",
    "print(rahul.schoolname)\n",
    "\n",
    "sunil= schoolfrom()\n",
    "sunil.name=\"sunil\"\n",
    "sunil.rollno=\"102\"\n",
    "sunil.printDetails()\n",
    "print(sunil.schoolname)"
   ]
  },
  {
   "cell_type": "code",
   "execution_count": 3,
   "id": "ee28cd6a",
   "metadata": {},
   "outputs": [
    {
     "name": "stdout",
     "output_type": "stream",
     "text": [
      "total is: 5\n"
     ]
    }
   ],
   "source": [
    "# class & object exmaple 3\n",
    "# if you want to calculate no. \n",
    "class calculate():\n",
    "    def add(self):\n",
    "        a=2\n",
    "        b=3\n",
    "        c=a+b\n",
    "        print(\"total is:\",c)\n",
    "obj = calculate()\n",
    "obj.add()"
   ]
  },
  {
   "cell_type": "code",
   "execution_count": 4,
   "id": "0313cb04",
   "metadata": {},
   "outputs": [
    {
     "name": "stdout",
     "output_type": "stream",
     "text": [
      "total is: 7\n"
     ]
    }
   ],
   "source": [
    "# class & object exmaple 3\n",
    "# if you want to calculate no.you can calculate with the help of this program \n",
    "class calculate():\n",
    "    def add(self,a,b):\n",
    "        self.a=a\n",
    "        self.b=b\n",
    "        c=a+b\n",
    "        print(\"total is:\",c)\n",
    "obj = calculate()\n",
    "obj.add(2,5)"
   ]
  },
  {
   "cell_type": "code",
   "execution_count": 5,
   "id": "9c6a9b96",
   "metadata": {},
   "outputs": [
    {
     "name": "stdout",
     "output_type": "stream",
     "text": [
      "11\n"
     ]
    }
   ],
   "source": [
    "## class & object exmaple 4\n",
    "# if you want to calculate no. & you can take no. in run time also with the help of this program\n",
    "class calculate():\n",
    "    def add(self,a,b): \n",
    "        self.a=a\n",
    "        self.b=b\n",
    "        c=a+b\n",
    "        return c\n",
    "obj = calculate()\n",
    "print(obj.add(5,6))"
   ]
  },
  {
   "cell_type": "code",
   "execution_count": 6,
   "id": "69a3cdf8",
   "metadata": {},
   "outputs": [
    {
     "name": "stdout",
     "output_type": "stream",
     "text": [
      "total is : 5\n"
     ]
    }
   ],
   "source": [
    "#CONSTRUCTOR\n",
    "# it is an special function  because we don't need to call function with help of it:\n",
    "#Example 1:\n",
    "class calculate():\n",
    "    def __init__ (self,a,b): \n",
    "        self.a=a\n",
    "        self.b=b\n",
    "        c=a+b\n",
    "        print(\"total is :\",c)\n",
    "obj = calculate(2,3)"
   ]
  },
  {
   "cell_type": "code",
   "execution_count": 7,
   "id": "4ec8101e",
   "metadata": {},
   "outputs": [
    {
     "name": "stdout",
     "output_type": "stream",
     "text": [
      "i am constructor\n"
     ]
    }
   ],
   "source": [
    "#Exampe 2:\n",
    "class calculate():\n",
    "    def __init__(self):\n",
    "        print(\"i am constructor\")\n",
    "obj = calculate()"
   ]
  },
  {
   "cell_type": "code",
   "execution_count": 8,
   "id": "dad5a2be",
   "metadata": {},
   "outputs": [
    {
     "name": "stdout",
     "output_type": "stream",
     "text": [
      "enter first number: 3\n",
      "enter second number: 4\n",
      "0. Exit\n",
      "1. Add\n",
      "2. subtraction\n",
      "3. multiplication\n",
      "4. division\n",
      "Enter a choice:2\n"
     ]
    },
    {
     "ename": "NameError",
     "evalue": "name 'chioce' is not defined",
     "output_type": "error",
     "traceback": [
      "\u001b[1;31m---------------------------------------------------------------------------\u001b[0m",
      "\u001b[1;31mNameError\u001b[0m                                 Traceback (most recent call last)",
      "\u001b[1;32m~\\AppData\\Local\\Temp/ipykernel_58688/1490476078.py\u001b[0m in \u001b[0;36m<module>\u001b[1;34m\u001b[0m\n\u001b[0;32m     24\u001b[0m         \u001b[0mprint\u001b[0m\u001b[1;33m(\u001b[0m\u001b[1;34m\"4. division\"\u001b[0m\u001b[1;33m)\u001b[0m\u001b[1;33m\u001b[0m\u001b[1;33m\u001b[0m\u001b[0m\n\u001b[0;32m     25\u001b[0m         \u001b[0mchoice\u001b[0m \u001b[1;33m=\u001b[0m \u001b[0mint\u001b[0m\u001b[1;33m(\u001b[0m\u001b[0minput\u001b[0m\u001b[1;33m(\u001b[0m\u001b[1;34m\"Enter a choice:\"\u001b[0m\u001b[1;33m)\u001b[0m\u001b[1;33m)\u001b[0m\u001b[1;33m\u001b[0m\u001b[1;33m\u001b[0m\u001b[0m\n\u001b[1;32m---> 26\u001b[1;33m         \u001b[1;32mif\u001b[0m \u001b[0mchioce\u001b[0m\u001b[1;33m==\u001b[0m\u001b[1;36m1\u001b[0m\u001b[1;33m:\u001b[0m\u001b[1;33m\u001b[0m\u001b[1;33m\u001b[0m\u001b[0m\n\u001b[0m\u001b[0;32m     27\u001b[0m             \u001b[0mprint\u001b[0m\u001b[1;33m(\u001b[0m\u001b[1;34m\"Result: \"\u001b[0m\u001b[1;33m,\u001b[0m\u001b[0mobj\u001b[0m\u001b[1;33m.\u001b[0m\u001b[0madd\u001b[0m\u001b[1;33m(\u001b[0m\u001b[1;33m)\u001b[0m\u001b[1;33m)\u001b[0m\u001b[1;33m\u001b[0m\u001b[1;33m\u001b[0m\u001b[0m\n\u001b[0;32m     28\u001b[0m         \u001b[1;32melif\u001b[0m \u001b[0mchoice\u001b[0m\u001b[1;33m==\u001b[0m\u001b[1;36m2\u001b[0m\u001b[1;33m:\u001b[0m\u001b[1;33m\u001b[0m\u001b[1;33m\u001b[0m\u001b[0m\n",
      "\u001b[1;31mNameError\u001b[0m: name 'chioce' is not defined"
     ]
    }
   ],
   "source": [
    "# Example 3\n",
    "class Calculator():\n",
    "    def __init__(self,a,b):\n",
    "        self.a=a\n",
    "        self.b=b\n",
    "    def add(self):\n",
    "        return self.a+self.b\n",
    "    def mul(self):\n",
    "        return self.a*self.b\n",
    "    def div(self):\n",
    "        return self.a/self.b\n",
    "    def sub(self):\n",
    "        return self.a-self.b\n",
    "    \n",
    "a = int(input(\"enter first number: \"))\n",
    "b = int(input(\"enter second number: \"))\n",
    "obj = Calculator(a,b)\n",
    "choice = 1\n",
    "while choice != 0:\n",
    "        print(\"0. Exit\")\n",
    "        print(\"1. Add\")\n",
    "        print(\"2. subtraction\")\n",
    "        print(\"3. multiplication\")\n",
    "        print(\"4. division\")\n",
    "        choice = int(input(\"Enter a choice:\"))\n",
    "        if chioce==1:\n",
    "            print(\"Result: \",obj.add())\n",
    "        elif choice==2:\n",
    "            print(\"Result: \",obj.sub())\n",
    "        elif choice==3:\n",
    "            print(\"Result: \",obj.mul())\n",
    "        elif choice==4:\n",
    "            print(\"Result: \",round(obj.div(),2))\n",
    "        elif choice==0:\n",
    "            print(\"Exiting!\")\n",
    "        else:\n",
    "            print(\"invalid choice!!\")"
   ]
  },
  {
   "cell_type": "code",
   "execution_count": 16,
   "id": "2f856140",
   "metadata": {},
   "outputs": [
    {
     "name": "stdout",
     "output_type": "stream",
     "text": [
      "Employee Name is:(self.EmpName) and Employee ID is: (self.EmpID)\n",
      "your Salary is: 270000.0\n"
     ]
    }
   ],
   "source": [
    "class EmpPersonalInfo():\n",
    "    def printDetails(self):\n",
    "        print(f\"Employee Name is:(self.EmpName) and Employee ID is: (self.EmpID)\")\n",
    "class Salary(EmpPersonalInfo):\n",
    "    def calculateSalary(self):\n",
    "        onedaySalary = self.basicSalary/30\n",
    "        workingdays = 30-self.leave\n",
    "        totsalary = onedaySalary*workingdays\n",
    "        print(\"your Salary is:\",totsalary)\n",
    "              \n",
    "rahul = Salary()\n",
    "rahul.basicSalary = 300000\n",
    "rahul.leave = 3\n",
    "rahul.EmpID =10\n",
    "rahul.EmpName = \"Rahul\"\n",
    "\n",
    "rahul.printDetails()\n",
    "rahul.calculateSalary()"
   ]
  },
  {
   "cell_type": "code",
   "execution_count": 17,
   "id": "e69e0721",
   "metadata": {},
   "outputs": [
    {
     "name": "stdout",
     "output_type": "stream",
     "text": [
      "enter first no. : 2\n",
      "enter second no. : a\n"
     ]
    },
    {
     "ename": "ValueError",
     "evalue": "invalid literal for int() with base 10: 'a'",
     "output_type": "error",
     "traceback": [
      "\u001b[1;31m---------------------------------------------------------------------------\u001b[0m",
      "\u001b[1;31mValueError\u001b[0m                                Traceback (most recent call last)",
      "\u001b[1;32m~\\AppData\\Local\\Temp/ipykernel_58688/1364218506.py\u001b[0m in \u001b[0;36m<module>\u001b[1;34m\u001b[0m\n\u001b[0;32m      1\u001b[0m \u001b[1;31m#example 1\u001b[0m\u001b[1;33m\u001b[0m\u001b[1;33m\u001b[0m\u001b[0m\n\u001b[0;32m      2\u001b[0m \u001b[0ma\u001b[0m \u001b[1;33m=\u001b[0m\u001b[0mint\u001b[0m\u001b[1;33m(\u001b[0m\u001b[0minput\u001b[0m\u001b[1;33m(\u001b[0m\u001b[1;34m\"enter first no. : \"\u001b[0m\u001b[1;33m)\u001b[0m\u001b[1;33m)\u001b[0m\u001b[1;33m\u001b[0m\u001b[1;33m\u001b[0m\u001b[0m\n\u001b[1;32m----> 3\u001b[1;33m \u001b[0mb\u001b[0m\u001b[1;33m=\u001b[0m \u001b[0mint\u001b[0m\u001b[1;33m(\u001b[0m\u001b[0minput\u001b[0m\u001b[1;33m(\u001b[0m\u001b[1;34m\"enter second no. : \"\u001b[0m\u001b[1;33m)\u001b[0m\u001b[1;33m)\u001b[0m\u001b[1;33m\u001b[0m\u001b[1;33m\u001b[0m\u001b[0m\n\u001b[0m\u001b[0;32m      4\u001b[0m \u001b[0mc\u001b[0m \u001b[1;33m=\u001b[0m \u001b[0ma\u001b[0m\u001b[1;33m/\u001b[0m\u001b[0mb\u001b[0m\u001b[1;33m\u001b[0m\u001b[1;33m\u001b[0m\u001b[0m\n\u001b[0;32m      5\u001b[0m \u001b[0mprint\u001b[0m\u001b[1;33m(\u001b[0m\u001b[0mc\u001b[0m\u001b[1;33m)\u001b[0m\u001b[1;33m\u001b[0m\u001b[1;33m\u001b[0m\u001b[0m\n",
      "\u001b[1;31mValueError\u001b[0m: invalid literal for int() with base 10: 'a'"
     ]
    }
   ],
   "source": [
    "#example 1\n",
    "a =int(input(\"enter first no. : \"))\n",
    "b= int(input(\"enter second no. : \"))\n",
    "c = a/b\n",
    "print(c)"
   ]
  },
  {
   "cell_type": "code",
   "execution_count": 20,
   "id": "2e24499c",
   "metadata": {},
   "outputs": [
    {
     "name": "stdout",
     "output_type": "stream",
     "text": [
      "enter first no. : 2\n",
      "enter second no. : a\n"
     ]
    },
    {
     "ename": "NameError",
     "evalue": "name 'valueError' is not defined",
     "output_type": "error",
     "traceback": [
      "\u001b[1;31m---------------------------------------------------------------------------\u001b[0m",
      "\u001b[1;31mValueError\u001b[0m                                Traceback (most recent call last)",
      "\u001b[1;32m~\\AppData\\Local\\Temp/ipykernel_58688/2274094734.py\u001b[0m in \u001b[0;36m<module>\u001b[1;34m\u001b[0m\n\u001b[0;32m      3\u001b[0m     \u001b[0ma\u001b[0m \u001b[1;33m=\u001b[0m\u001b[0mint\u001b[0m\u001b[1;33m(\u001b[0m\u001b[0minput\u001b[0m\u001b[1;33m(\u001b[0m\u001b[1;34m\"enter first no. : \"\u001b[0m\u001b[1;33m)\u001b[0m\u001b[1;33m)\u001b[0m\u001b[1;33m\u001b[0m\u001b[1;33m\u001b[0m\u001b[0m\n\u001b[1;32m----> 4\u001b[1;33m     \u001b[0mb\u001b[0m\u001b[1;33m=\u001b[0m \u001b[0mint\u001b[0m\u001b[1;33m(\u001b[0m\u001b[0minput\u001b[0m\u001b[1;33m(\u001b[0m\u001b[1;34m\"enter second no. : \"\u001b[0m\u001b[1;33m)\u001b[0m\u001b[1;33m)\u001b[0m\u001b[1;33m\u001b[0m\u001b[1;33m\u001b[0m\u001b[0m\n\u001b[0m\u001b[0;32m      5\u001b[0m     \u001b[0mc\u001b[0m \u001b[1;33m=\u001b[0m \u001b[0ma\u001b[0m\u001b[1;33m/\u001b[0m\u001b[0mb\u001b[0m\u001b[1;33m\u001b[0m\u001b[1;33m\u001b[0m\u001b[0m\n",
      "\u001b[1;31mValueError\u001b[0m: invalid literal for int() with base 10: 'a'",
      "\nDuring handling of the above exception, another exception occurred:\n",
      "\u001b[1;31mNameError\u001b[0m                                 Traceback (most recent call last)",
      "\u001b[1;32m~\\AppData\\Local\\Temp/ipykernel_58688/2274094734.py\u001b[0m in \u001b[0;36m<module>\u001b[1;34m\u001b[0m\n\u001b[0;32m      6\u001b[0m     \u001b[0mprint\u001b[0m\u001b[1;33m(\u001b[0m\u001b[0mc\u001b[0m\u001b[1;33m)\u001b[0m\u001b[1;33m\u001b[0m\u001b[1;33m\u001b[0m\u001b[0m\n\u001b[0;32m      7\u001b[0m \u001b[1;33m\u001b[0m\u001b[0m\n\u001b[1;32m----> 8\u001b[1;33m \u001b[1;32mexcept\u001b[0m \u001b[0mvalueError\u001b[0m\u001b[1;33m:\u001b[0m\u001b[1;33m\u001b[0m\u001b[1;33m\u001b[0m\u001b[0m\n\u001b[0m\u001b[0;32m      9\u001b[0m     \u001b[0mprint\u001b[0m\u001b[1;33m(\u001b[0m\u001b[1;34m\"error! please input number only:\"\u001b[0m\u001b[1;33m)\u001b[0m\u001b[1;33m\u001b[0m\u001b[1;33m\u001b[0m\u001b[0m\n\u001b[0;32m     10\u001b[0m \u001b[1;32melse\u001b[0m\u001b[1;33m:\u001b[0m\u001b[1;33m\u001b[0m\u001b[1;33m\u001b[0m\u001b[0m\n",
      "\u001b[1;31mNameError\u001b[0m: name 'valueError' is not defined"
     ]
    }
   ],
   "source": [
    "# exception handling in python\n",
    "#example 1\n",
    "try:\n",
    "    a =int(input(\"enter first no. : \"))\n",
    "    b= int(input(\"enter second no. : \"))\n",
    "    c = a/b\n",
    "    print(c)\n",
    "    \n",
    "except valueError:\n",
    "    print(\"error! please input number only:\")\n",
    "else:\n",
    "    print(\"thnak you....\")"
   ]
  },
  {
   "cell_type": "code",
   "execution_count": 21,
   "id": "94eafe6b",
   "metadata": {},
   "outputs": [
    {
     "name": "stdout",
     "output_type": "stream",
     "text": [
      "enter first no. : 3\n",
      "enter second no. : 0\n"
     ]
    },
    {
     "ename": "NameError",
     "evalue": "name 'ArithmaticError' is not defined",
     "output_type": "error",
     "traceback": [
      "\u001b[1;31m---------------------------------------------------------------------------\u001b[0m",
      "\u001b[1;31mZeroDivisionError\u001b[0m                         Traceback (most recent call last)",
      "\u001b[1;32m~\\AppData\\Local\\Temp/ipykernel_58688/882780975.py\u001b[0m in \u001b[0;36m<module>\u001b[1;34m\u001b[0m\n\u001b[0;32m      4\u001b[0m     \u001b[0mb\u001b[0m\u001b[1;33m=\u001b[0m \u001b[0mint\u001b[0m\u001b[1;33m(\u001b[0m\u001b[0minput\u001b[0m\u001b[1;33m(\u001b[0m\u001b[1;34m\"enter second no. : \"\u001b[0m\u001b[1;33m)\u001b[0m\u001b[1;33m)\u001b[0m\u001b[1;33m\u001b[0m\u001b[1;33m\u001b[0m\u001b[0m\n\u001b[1;32m----> 5\u001b[1;33m     \u001b[0mc\u001b[0m \u001b[1;33m=\u001b[0m \u001b[0ma\u001b[0m\u001b[1;33m/\u001b[0m\u001b[0mb\u001b[0m\u001b[1;33m\u001b[0m\u001b[1;33m\u001b[0m\u001b[0m\n\u001b[0m\u001b[0;32m      6\u001b[0m     \u001b[0mprint\u001b[0m\u001b[1;33m(\u001b[0m\u001b[0mc\u001b[0m\u001b[1;33m)\u001b[0m\u001b[1;33m\u001b[0m\u001b[1;33m\u001b[0m\u001b[0m\n",
      "\u001b[1;31mZeroDivisionError\u001b[0m: division by zero",
      "\nDuring handling of the above exception, another exception occurred:\n",
      "\u001b[1;31mNameError\u001b[0m                                 Traceback (most recent call last)",
      "\u001b[1;32m~\\AppData\\Local\\Temp/ipykernel_58688/882780975.py\u001b[0m in \u001b[0;36m<module>\u001b[1;34m\u001b[0m\n\u001b[0;32m      6\u001b[0m     \u001b[0mprint\u001b[0m\u001b[1;33m(\u001b[0m\u001b[0mc\u001b[0m\u001b[1;33m)\u001b[0m\u001b[1;33m\u001b[0m\u001b[1;33m\u001b[0m\u001b[0m\n\u001b[0;32m      7\u001b[0m \u001b[1;33m\u001b[0m\u001b[0m\n\u001b[1;32m----> 8\u001b[1;33m \u001b[1;32mexcept\u001b[0m \u001b[0mArithmaticError\u001b[0m\u001b[1;33m:\u001b[0m\u001b[1;33m\u001b[0m\u001b[1;33m\u001b[0m\u001b[0m\n\u001b[0m\u001b[0;32m      9\u001b[0m     \u001b[0mprint\u001b[0m\u001b[1;33m(\u001b[0m\u001b[1;34m\"error! divided by zero is not allowed:\"\u001b[0m\u001b[1;33m)\u001b[0m\u001b[1;33m\u001b[0m\u001b[1;33m\u001b[0m\u001b[0m\n\u001b[0;32m     10\u001b[0m \u001b[1;32melse\u001b[0m\u001b[1;33m:\u001b[0m\u001b[1;33m\u001b[0m\u001b[1;33m\u001b[0m\u001b[0m\n",
      "\u001b[1;31mNameError\u001b[0m: name 'ArithmaticError' is not defined"
     ]
    }
   ],
   "source": [
    "#example 2\n",
    "try:\n",
    "    a =int(input(\"enter first no. : \"))\n",
    "    b= int(input(\"enter second no. : \"))\n",
    "    c = a/b\n",
    "    print(c)\n",
    "    \n",
    "except ArithmaticError:\n",
    "    print(\"error! divided by zero is not allowed:\")\n",
    "else:\n",
    "    print(\"thnak you....\")"
   ]
  },
  {
   "cell_type": "code",
   "execution_count": 30,
   "id": "d4daf574",
   "metadata": {
    "scrolled": true
   },
   "outputs": [
    {
     "name": "stdout",
     "output_type": "stream",
     "text": [
      "not enough balance!\n"
     ]
    }
   ],
   "source": [
    "try:\n",
    "    saving = 20000\n",
    "    withdrawal = 30000\n",
    "    if withdrawal>saving:\n",
    "        raise Exception()\n",
    "    else: cash = saving-withdrawal\n",
    "except Exception:\n",
    "    print(\"not enough balance!\")\n",
    "else:\n",
    "    print(withdrawal,\"hasbeen debited\")\n",
    "    print(\"the available balance is:\", cash)"
   ]
  },
  {
   "cell_type": "code",
   "execution_count": 32,
   "id": "f785e3ec",
   "metadata": {},
   "outputs": [
    {
     "name": "stdout",
     "output_type": "stream",
     "text": [
      "written content in the file successfully\n"
     ]
    }
   ],
   "source": [
    "try:\n",
    "    fh = open(\"testfile\",\"w\")\n",
    "    fh.write(\"this is my test filr for exception handling!!\")\n",
    "except IDError:\n",
    "    print(\"Error! can't read data in file\")\n",
    "else:\n",
    "    print(\"written content in the file successfully\")"
   ]
  },
  {
   "cell_type": "code",
   "execution_count": null,
   "id": "21764337",
   "metadata": {},
   "outputs": [],
   "source": []
  }
 ],
 "metadata": {
  "kernelspec": {
   "display_name": "Python 3 (ipykernel)",
   "language": "python",
   "name": "python3"
  },
  "language_info": {
   "codemirror_mode": {
    "name": "ipython",
    "version": 3
   },
   "file_extension": ".py",
   "mimetype": "text/x-python",
   "name": "python",
   "nbconvert_exporter": "python",
   "pygments_lexer": "ipython3",
   "version": "3.9.7"
  }
 },
 "nbformat": 4,
 "nbformat_minor": 5
}
