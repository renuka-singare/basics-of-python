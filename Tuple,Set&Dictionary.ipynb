{
 "cells": [
  {
   "cell_type": "code",
   "execution_count": 2,
   "id": "d9e7c77e",
   "metadata": {},
   "outputs": [
    {
     "name": "stdout",
     "output_type": "stream",
     "text": [
      "('monitor', 'printer', 'mouse', 'keyboard')\n"
     ]
    }
   ],
   "source": [
    "hardware=('monitor','printer','mouse','keyboard')\n",
    "print(hardware)"
   ]
  },
  {
   "cell_type": "code",
   "execution_count": 3,
   "id": "1a7195c0",
   "metadata": {},
   "outputs": [
    {
     "name": "stdout",
     "output_type": "stream",
     "text": [
      "('monitor', 'printer', 'mouse', 'keyboard')\n"
     ]
    }
   ],
   "source": [
    "#Not changable\n",
    "hardware=('monitor','printer','mouse','keyboard')\n",
    "harware='HDD'\n",
    "print(hardware)"
   ]
  },
  {
   "cell_type": "code",
   "execution_count": 4,
   "id": "59333be2",
   "metadata": {},
   "outputs": [
    {
     "name": "stdout",
     "output_type": "stream",
     "text": [
      "4\n"
     ]
    }
   ],
   "source": [
    "#get the length of tuple\n",
    "hardware=(\"monitor\",\"printer\",\"mouse\",\"keyboard\")\n",
    "print(len(hardware))"
   ]
  },
  {
   "cell_type": "code",
   "execution_count": 5,
   "id": "94801cee",
   "metadata": {},
   "outputs": [
    {
     "name": "stdout",
     "output_type": "stream",
     "text": [
      "('monitor', 'printer', 'mouse', 'keyboard', 'photoshop', 'Vscode', 'tally')\n"
     ]
    }
   ],
   "source": [
    "#join two tuple \n",
    "hardware=(\"monitor\",\"printer\",\"mouse\",\"keyboard\")\n",
    "software=(\"photoshop\",\"Vscode\",\"tally\")\n",
    "x=hardware+software\n",
    "print(x)"
   ]
  },
  {
   "cell_type": "code",
   "execution_count": 9,
   "id": "09ed725e",
   "metadata": {},
   "outputs": [
    {
     "name": "stdout",
     "output_type": "stream",
     "text": [
      "3\n"
     ]
    }
   ],
   "source": [
    "#using count() method on tuple\n",
    "example=('a','b','c','a','h','a')\n",
    "x=example.count('a')\n",
    "print(x)"
   ]
  },
  {
   "cell_type": "code",
   "execution_count": 8,
   "id": "052865e4",
   "metadata": {},
   "outputs": [
    {
     "name": "stdout",
     "output_type": "stream",
     "text": [
      "2\n"
     ]
    }
   ],
   "source": [
    "#unig index() method on tuple\n",
    "example=('a','b','c','s','h','d')\n",
    "x=example.index('c')\n",
    "print(x)"
   ]
  },
  {
   "cell_type": "code",
   "execution_count": 13,
   "id": "5d2d1448",
   "metadata": {},
   "outputs": [
    {
     "name": "stdout",
     "output_type": "stream",
     "text": [
      "{'keyboard', 'monitor', 'mouse', 'printer'}\n"
     ]
    }
   ],
   "source": [
    "#example of set/unordered\n",
    "hardware={'monitor','printer','mouse','keyboard'}\n",
    "print(hardware)"
   ]
  },
  {
   "cell_type": "code",
   "execution_count": 16,
   "id": "b14e3b93",
   "metadata": {},
   "outputs": [
    {
     "name": "stdout",
     "output_type": "stream",
     "text": [
      "{'keyboard', 'monitor', 'mouse', 'printer'}\n"
     ]
    }
   ],
   "source": [
    "#can't add duplicate variable\n",
    "hardware={'monitor','printer','mouse','keyboard'}\n",
    "hardware.add(\"keyboard\")\n",
    "print(hardware)"
   ]
  },
  {
   "cell_type": "code",
   "execution_count": 17,
   "id": "3acc4fb2",
   "metadata": {},
   "outputs": [
    {
     "name": "stdout",
     "output_type": "stream",
     "text": [
      "{'monitor', 'printer', 'keyboard', 'cpu', 'mouse'}\n"
     ]
    }
   ],
   "source": [
    "#we can add new items\n",
    "hardware={'monitor','printer','mouse','keyboard'}\n",
    "hardware.add(\"cpu\")\n",
    "print(hardware)"
   ]
  },
  {
   "cell_type": "code",
   "execution_count": 18,
   "id": "1ec48fe6",
   "metadata": {},
   "outputs": [
    {
     "name": "stdout",
     "output_type": "stream",
     "text": [
      "{'monitor', 'C', 'printer', 'G', 'P', 'D', 'keyboard', 'U', 'S', 'mouse', 'H'}\n"
     ]
    }
   ],
   "source": [
    "hardware={'monitor','printer','mouse','keyboard'}\n",
    "hardware.update(\"CPU\",\"SDD\",\"HDD\",\"GPU\")\n",
    "print(hardware)"
   ]
  },
  {
   "cell_type": "code",
   "execution_count": 20,
   "id": "1e5b8b3e",
   "metadata": {},
   "outputs": [
    {
     "name": "stdout",
     "output_type": "stream",
     "text": [
      "{'brand': 'nokia', 'model': 'TA-1053', 'year': '2018'}\n"
     ]
    }
   ],
   "source": [
    "#Dictionaryexample\n",
    "#creating and printing\n",
    "mobile={\n",
    "    \"brand\":\"nokia\",\n",
    "     \"model\":\"TA-1053\",\n",
    "     \"year\":\"2018\"\n",
    "}\n",
    "print(mobile)"
   ]
  },
  {
   "cell_type": "code",
   "execution_count": 33,
   "id": "a71dfe0f",
   "metadata": {},
   "outputs": [
    {
     "name": "stdout",
     "output_type": "stream",
     "text": [
      "nokia\n"
     ]
    }
   ],
   "source": [
    "#assess value of the 'brand'by key)\n",
    "mobile={\n",
    "    \"brand\":\"nokia\",\n",
    "     \"model\":\"TA-1053\",\n",
    "     \"year\":\"2018\"\n",
    "}\n",
    "print(mobile[\"brand\"])\n"
   ]
  },
  {
   "cell_type": "code",
   "execution_count": 31,
   "id": "3ff9fe78",
   "metadata": {},
   "outputs": [
    {
     "name": "stdout",
     "output_type": "stream",
     "text": [
      "{'brand': 'nokia', 'model': 'TA-1053', 'year': 2019}\n"
     ]
    }
   ],
   "source": [
    " #we can change the value of specific items by its key name\n",
    "mobile={\n",
    "     \"brand\":\"nokia\",\n",
    "     \"model\":\"TA-1053\",\n",
    "     \"year\":\"2018\"\n",
    "}\n",
    "mobile[\"year\"]=2019\n",
    "print(mobile)"
   ]
  },
  {
   "cell_type": "code",
   "execution_count": 34,
   "id": "7d7f6175",
   "metadata": {},
   "outputs": [
    {
     "name": "stdout",
     "output_type": "stream",
     "text": [
      "{'brand': 'nokia', 'model': 'TA-1053', 'year': '2018', 'colour': 'black'}\n"
     ]
    }
   ],
   "source": [
    " #we can change the value of specific items by its key name\n",
    "mobile={\n",
    "     \"brand\":\"nokia\",\n",
    "     \"model\":\"TA-1053\",\n",
    "     \"year\":\"2018\"\n",
    "}\n",
    "mobile[\"colour\"]=\"black\"\n",
    "print(mobile)"
   ]
  },
  {
   "cell_type": "code",
   "execution_count": 1,
   "id": "78972493",
   "metadata": {},
   "outputs": [
    {
     "name": "stdout",
     "output_type": "stream",
     "text": [
      "{'brand': 'nokia', 'year': '2018'}\n"
     ]
    }
   ],
   "source": [
    "#removing items\n",
    "mobile={\n",
    "     \"brand\":\"nokia\",\n",
    "     \"model\":\"TA-1053\",\n",
    "     \"year\":\"2018\"\n",
    "}\n",
    "mobile.pop(\"model\")\n",
    "print(mobile)"
   ]
  },
  {
   "cell_type": "code",
   "execution_count": 9,
   "id": "e1f04a33",
   "metadata": {},
   "outputs": [
    {
     "name": "stdout",
     "output_type": "stream",
     "text": [
      "{'brand': 'nokia', 'model': 'TA-1053'}\n"
     ]
    }
   ],
   "source": [
    "#deleting dictionary\n",
    "mobile={\n",
    "     \"brand\":\"nokia\",\n",
    "     \"model\":\"TA-1053\",\n",
    "     \"year\":\"2018\"\n",
    "}\n",
    "del mobile['year']\n",
    "print(mobile)"
   ]
  },
  {
   "cell_type": "code",
   "execution_count": 15,
   "id": "fd0335ac",
   "metadata": {},
   "outputs": [
    {
     "name": "stdout",
     "output_type": "stream",
     "text": [
      "{}\n"
     ]
    }
   ],
   "source": [
    "#deleting dictionary\n",
    "mobile={\n",
    "     \"brand\":\"nokia\",\n",
    "     \"model\":\"TA-1053\",\n",
    "     \"year\":\"2018\"\n",
    "}\n",
    "mobile.clear()\n",
    "print(mobile)"
   ]
  },
  {
   "cell_type": "code",
   "execution_count": 16,
   "id": "4b2e0c57",
   "metadata": {},
   "outputs": [
    {
     "name": "stdout",
     "output_type": "stream",
     "text": [
      "{'brand': 'nokia', 'model': 'TA-1053', 'year': '2018'}\n"
     ]
    }
   ],
   "source": [
    "#copy of a dictinay\n",
    "mobile={\n",
    "     \"brand\":\"nokia\",\n",
    "     \"model\":\"TA-1053\",\n",
    "     \"year\":\"2018\"\n",
    "}\n",
    "phone=mobile.copy()\n",
    "print(phone)"
   ]
  },
  {
   "cell_type": "code",
   "execution_count": null,
   "id": "08c95b35",
   "metadata": {},
   "outputs": [],
   "source": []
  }
 ],
 "metadata": {
  "kernelspec": {
   "display_name": "Python 3 (ipykernel)",
   "language": "python",
   "name": "python3"
  },
  "language_info": {
   "codemirror_mode": {
    "name": "ipython",
    "version": 3
   },
   "file_extension": ".py",
   "mimetype": "text/x-python",
   "name": "python",
   "nbconvert_exporter": "python",
   "pygments_lexer": "ipython3",
   "version": "3.9.7"
  }
 },
 "nbformat": 4,
 "nbformat_minor": 5
}
