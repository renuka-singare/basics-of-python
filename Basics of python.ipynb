{
 "cells": [
  {
   "cell_type": "code",
   "execution_count": 1,
   "id": "a30f6a3a",
   "metadata": {},
   "outputs": [
    {
     "name": "stdout",
     "output_type": "stream",
     "text": [
      "hello world\n"
     ]
    }
   ],
   "source": [
    "print(\"hello world\")"
   ]
  },
  {
   "cell_type": "code",
   "execution_count": 2,
   "id": "fa7a016e",
   "metadata": {},
   "outputs": [
    {
     "name": "stdout",
     "output_type": "stream",
     "text": [
      "7\n"
     ]
    }
   ],
   "source": [
    "a=2\n",
    "b=5\n",
    "c=a+b\n",
    "print(c)"
   ]
  },
  {
   "cell_type": "code",
   "execution_count": 3,
   "id": "48747524",
   "metadata": {},
   "outputs": [
    {
     "name": "stdout",
     "output_type": "stream",
     "text": [
      "enter first no :3\n",
      "enter second no :5\n",
      "8\n"
     ]
    }
   ],
   "source": [
    "a=int(input('enter first no :'))\n",
    "b=int(input('enter second no :'))\n",
    "c=a+b\n",
    "print(c)"
   ]
  },
  {
   "cell_type": "code",
   "execution_count": 4,
   "id": "d9e0975e",
   "metadata": {},
   "outputs": [
    {
     "name": "stdout",
     "output_type": "stream",
     "text": [
      "enter first no :5\n",
      "enter second no :6\n",
      "-1\n"
     ]
    }
   ],
   "source": [
    "a=int(input('enter first no :'))\n",
    "b=int(input('enter second no :'))\n",
    "c=a-b\n",
    "print(c)"
   ]
  },
  {
   "cell_type": "markdown",
   "id": "79576588",
   "metadata": {},
   "source": [
    "a=int(input('enter first no :'))\n",
    "b=int(input('enter second no :'))\n",
    "c=a*b\n",
    "print(c)"
   ]
  },
  {
   "cell_type": "code",
   "execution_count": 5,
   "id": "89713ef0",
   "metadata": {},
   "outputs": [
    {
     "name": "stdout",
     "output_type": "stream",
     "text": [
      "enter first no :6\n",
      "enter second no :6\n",
      "36\n"
     ]
    }
   ],
   "source": [
    "a=int(input('enter first no :'))\n",
    "b=int(input('enter second no :'))\n",
    "c=a*b \n",
    "print(c)"
   ]
  },
  {
   "cell_type": "code",
   "execution_count": 7,
   "id": "26933704",
   "metadata": {},
   "outputs": [
    {
     "name": "stdout",
     "output_type": "stream",
     "text": [
      "enter first no :4\n",
      "enter second no :7\n",
      "0.5714285714285714\n"
     ]
    }
   ],
   "source": [
    "a=int(input('enter first no :'))\n",
    "b=int(input('enter second no :'))\n",
    "c=a/b\n",
    "print(c)\n"
   ]
  },
  {
   "cell_type": "code",
   "execution_count": null,
   "id": "706e16f6",
   "metadata": {},
   "outputs": [],
   "source": [
    "a=int(input('enter first no :'))\n",
    "b=int(input('enter second no :'))\n",
    "c=a//b\n",
    "print(c)"
   ]
  },
  {
   "cell_type": "code",
   "execution_count": null,
   "id": "0836e0fb",
   "metadata": {},
   "outputs": [],
   "source": [
    "a=int(input('enter first no :'))\n",
    "b=int(input('enter second no :'))\n",
    "c=a**b\n",
    "print(c)"
   ]
  },
  {
   "cell_type": "code",
   "execution_count": null,
   "id": "e29c1bd2",
   "metadata": {},
   "outputs": [],
   "source": [
    "p=int(input('enter principle'))\n",
    "r=int(input('enter rate'))\n",
    "t=int(input('enter time'))\n",
    "si=(p*r*t)/100\n",
    "print(\"simple intrest:\",si)\n"
   ]
  },
  {
   "cell_type": "code",
   "execution_count": null,
   "id": "838ee9ab",
   "metadata": {},
   "outputs": [],
   "source": [
    "h=int(input('enter hight of triangle:'))\n",
    "b=int(input('enter base of the triangle:'))\n",
    "Area=(h*b)/2\n",
    "print('Area of triangle is:',Area)\n"
   ]
  },
  {
   "cell_type": "code",
   "execution_count": null,
   "id": "a7a6de88",
   "metadata": {},
   "outputs": [],
   "source": [
    "r=float(input('enter radias of the circle:'))\n",
    "n= 3.14*r\n",
    "print('result is',n)"
   ]
  },
  {
   "cell_type": "code",
   "execution_count": null,
   "id": "59cc752a",
   "metadata": {},
   "outputs": [],
   "source": [
    "a = float(2)"
   ]
  },
  {
   "cell_type": "code",
   "execution_count": null,
   "id": "c4930d11",
   "metadata": {},
   "outputs": [],
   "source": [
    "a = int(3.14)"
   ]
  },
  {
   "cell_type": "code",
   "execution_count": null,
   "id": "62093152",
   "metadata": {},
   "outputs": [],
   "source": [
    "a = 3\n",
    "b = 2\n",
    "c = a==b\n",
    "print(c)"
   ]
  },
  {
   "cell_type": "code",
   "execution_count": null,
   "id": "22b8dad7",
   "metadata": {},
   "outputs": [],
   "source": [
    "a = 3\n",
    "b = 2\n",
    "c = a!=b\n",
    "print(c)"
   ]
  },
  {
   "cell_type": "code",
   "execution_count": null,
   "id": "803e6a39",
   "metadata": {},
   "outputs": [],
   "source": [
    "a = 3\n",
    "b = 2\n",
    "c = a>b\n",
    "print(c)"
   ]
  },
  {
   "cell_type": "code",
   "execution_count": null,
   "id": "359d1387",
   "metadata": {},
   "outputs": [],
   "source": [
    "a = 3\n",
    "b = 2\n",
    "c = a<b\n",
    "print(c)"
   ]
  },
  {
   "cell_type": "code",
   "execution_count": null,
   "id": "48b4d2c8",
   "metadata": {},
   "outputs": [],
   "source": [
    "a = 3\n",
    "b = 2\n",
    "c = a<=b\n",
    "print(c)"
   ]
  },
  {
   "cell_type": "code",
   "execution_count": null,
   "id": "f4dce143",
   "metadata": {},
   "outputs": [],
   "source": [
    "a = 3\n",
    "b = 2\n",
    "c = a>=b\n",
    "print(c)"
   ]
  },
  {
   "cell_type": "code",
   "execution_count": null,
   "id": "cd1aadf3",
   "metadata": {},
   "outputs": [],
   "source": [
    "a = 3\n",
    "b = 2\n",
    "a+=b\n",
    "print(a)"
   ]
  },
  {
   "cell_type": "code",
   "execution_count": null,
   "id": "95f011c5",
   "metadata": {},
   "outputs": [],
   "source": [
    "a = 2\n",
    "b = 3\n",
    "c = 5\n",
    "d = a>b and a>c\n",
    "print(d)\n"
   ]
  },
  {
   "cell_type": "code",
   "execution_count": null,
   "id": "69c77542",
   "metadata": {},
   "outputs": [],
   "source": [
    "a = 2\n",
    "b = 3\n",
    "c = 5\n",
    "d = a>b or a>c\n",
    "print(d)\n"
   ]
  },
  {
   "cell_type": "code",
   "execution_count": null,
   "id": "4571454d",
   "metadata": {},
   "outputs": [],
   "source": [
    "a = 2\n",
    "b = 3\n",
    "c = not a>b \n",
    "print(c)\n"
   ]
  },
  {
   "cell_type": "code",
   "execution_count": null,
   "id": "d6aa677e",
   "metadata": {
    "scrolled": true
   },
   "outputs": [],
   "source": [
    "a = 2\n",
    "list = [1,2,3,4] \n",
    "if (a in list):\n",
    "    print('yes')\n",
    "else:\n",
    "    print('no')   "
   ]
  },
  {
   "cell_type": "code",
   "execution_count": null,
   "id": "9115dd81",
   "metadata": {},
   "outputs": [],
   "source": [
    "a=10\n",
    "list=[1,2,3,4,5,6,7,8]\n",
    "if (a not in list):\n",
    "    print('yes')\n",
    "else:\n",
    "    print('no')"
   ]
  },
  {
   "cell_type": "markdown",
   "id": "c37510c3",
   "metadata": {},
   "source": [
    " "
   ]
  },
  {
   "cell_type": "code",
   "execution_count": null,
   "id": "f8a5d739",
   "metadata": {},
   "outputs": [],
   "source": [
    "x=6\n",
    "if (type(x)is int):\n",
    "    print('true')\n",
    "else:\n",
    "    print('false')\n",
    "    "
   ]
  },
  {
   "cell_type": "code",
   "execution_count": null,
   "id": "f9b3b162",
   "metadata": {},
   "outputs": [],
   "source": [
    "x=6.0\n",
    "if (type(x) is not int):\n",
    "    print('true')\n",
    "else:\n",
    "    print('flase')\n",
    "    "
   ]
  },
  {
   "cell_type": "code",
   "execution_count": null,
   "id": "169445dd",
   "metadata": {},
   "outputs": [],
   "source": []
  },
  {
   "cell_type": "code",
   "execution_count": null,
   "id": "4cba20e3",
   "metadata": {},
   "outputs": [],
   "source": []
  },
  {
   "cell_type": "code",
   "execution_count": null,
   "id": "ec32e7ee",
   "metadata": {},
   "outputs": [],
   "source": []
  },
  {
   "cell_type": "code",
   "execution_count": null,
   "id": "d1b1323f",
   "metadata": {},
   "outputs": [],
   "source": []
  },
  {
   "cell_type": "code",
   "execution_count": null,
   "id": "8ff52822",
   "metadata": {},
   "outputs": [],
   "source": []
  },
  {
   "cell_type": "code",
   "execution_count": null,
   "id": "1ee39ea5",
   "metadata": {},
   "outputs": [],
   "source": []
  }
 ],
 "metadata": {
  "kernelspec": {
   "display_name": "Python 3 (ipykernel)",
   "language": "python",
   "name": "python3"
  },
  "language_info": {
   "codemirror_mode": {
    "name": "ipython",
    "version": 3
   },
   "file_extension": ".py",
   "mimetype": "text/x-python",
   "name": "python",
   "nbconvert_exporter": "python",
   "pygments_lexer": "ipython3",
   "version": "3.9.7"
  }
 },
 "nbformat": 4,
 "nbformat_minor": 5
}
