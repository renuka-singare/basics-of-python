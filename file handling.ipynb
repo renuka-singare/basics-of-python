{
 "cells": [
  {
   "cell_type": "code",
   "execution_count": 1,
   "id": "3ce0753a",
   "metadata": {},
   "outputs": [],
   "source": [
    "myfile = open ('sanrenu.txt','x')\n",
    "myfile.close()"
   ]
  },
  {
   "cell_type": "code",
   "execution_count": 3,
   "id": "6d943d57",
   "metadata": {},
   "outputs": [],
   "source": [
    "myfile = open('sanrenu.txt','w')\n",
    "myfile.write('hello world')\n",
    "myfile.close()"
   ]
  },
  {
   "cell_type": "code",
   "execution_count": 4,
   "id": "df9a5709",
   "metadata": {},
   "outputs": [
    {
     "name": "stdout",
     "output_type": "stream",
     "text": [
      "hello world\n"
     ]
    }
   ],
   "source": [
    "myfile = open('sanrenu.txt','r')\n",
    "print(myfile.read())\n",
    "myfile.close()"
   ]
  },
  {
   "cell_type": "code",
   "execution_count": 5,
   "id": "61114d5b",
   "metadata": {},
   "outputs": [],
   "source": [
    "myfile = open('sanrenu.txt','a')\n",
    "myfile.write('welcome')\n",
    "myfile.close()"
   ]
  },
  {
   "cell_type": "code",
   "execution_count": 6,
   "id": "26bc635c",
   "metadata": {},
   "outputs": [
    {
     "name": "stdout",
     "output_type": "stream",
     "text": [
      "hello worldwelcome\n"
     ]
    }
   ],
   "source": [
    "myfile = open('sanrenu.txt','r')\n",
    "print(myfile.read(50))\n",
    "myfile.close()"
   ]
  },
  {
   "cell_type": "code",
   "execution_count": 1,
   "id": "aecccbe1",
   "metadata": {},
   "outputs": [
    {
     "name": "stdout",
     "output_type": "stream",
     "text": [
      "hello worldwelcome\n"
     ]
    }
   ],
   "source": [
    "with open ('sanrenu.txt','r')as myfile:\n",
    "    a = myfile.read()\n",
    "    print(a)"
   ]
  },
  {
   "cell_type": "code",
   "execution_count": 4,
   "id": "31ade8a6",
   "metadata": {},
   "outputs": [],
   "source": [
    "#rename & delete python files\n",
    "import os\n",
    "old_file_name =\"sanrenu.txt\"\n",
    "new_file_name =\"renuka.txt\"\n",
    "with open (old_file_name)as myfile:\n",
    "    data =myfile.read()\n",
    "with open (new_file_name,\"w\")as myfile:\n",
    "    myfile.write(data)\n",
    "os.remove(old_file_name)"
   ]
  },
  {
   "cell_type": "code",
   "execution_count": null,
   "id": "4fad2912",
   "metadata": {},
   "outputs": [],
   "source": []
  },
  {
   "cell_type": "code",
   "execution_count": null,
   "id": "34faa7ad",
   "metadata": {},
   "outputs": [],
   "source": []
  }
 ],
 "metadata": {
  "kernelspec": {
   "display_name": "Python 3 (ipykernel)",
   "language": "python",
   "name": "python3"
  },
  "language_info": {
   "codemirror_mode": {
    "name": "ipython",
    "version": 3
   },
   "file_extension": ".py",
   "mimetype": "text/x-python",
   "name": "python",
   "nbconvert_exporter": "python",
   "pygments_lexer": "ipython3",
   "version": "3.9.7"
  }
 },
 "nbformat": 4,
 "nbformat_minor": 5
}
