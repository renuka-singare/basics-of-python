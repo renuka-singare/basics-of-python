{
 "cells": [
  {
   "cell_type": "code",
   "execution_count": 1,
   "id": "e45aeaed",
   "metadata": {},
   "outputs": [
    {
     "name": "stdout",
     "output_type": "stream",
     "text": [
      "1\n",
      "2\n",
      "3\n",
      "4\n"
     ]
    }
   ],
   "source": [
    "#WHILE LOOP\n",
    "i=1\n",
    "while i<7:\n",
    "    print(i)\n",
    "    if i==4:\n",
    "        break\n",
    "    i+=1"
   ]
  },
  {
   "cell_type": "code",
   "execution_count": 2,
   "id": "d9744819",
   "metadata": {},
   "outputs": [
    {
     "name": "stdout",
     "output_type": "stream",
     "text": [
      "2\n",
      "3\n",
      "5\n",
      "6\n",
      "7\n"
     ]
    }
   ],
   "source": [
    "i = 1\n",
    "while i<7:\n",
    "    i+=1\n",
    "    if i==4:\n",
    "        continue\n",
    "    print(i)"
   ]
  },
  {
   "cell_type": "code",
   "execution_count": 3,
   "id": "4a70b057",
   "metadata": {},
   "outputs": [
    {
     "name": "stdout",
     "output_type": "stream",
     "text": [
      "1\n",
      "2\n",
      "3\n",
      "4\n"
     ]
    }
   ],
   "source": [
    "i=1\n",
    "while i<5:\n",
    "    print(i)\n",
    "    i+=1"
   ]
  },
  {
   "cell_type": "code",
   "execution_count": 4,
   "id": "5fca7d61",
   "metadata": {},
   "outputs": [
    {
     "name": "stdout",
     "output_type": "stream",
     "text": [
      "1\n",
      "2\n",
      "3\n",
      "4\n",
      "5\n",
      "6\n",
      "7\n",
      "8\n",
      "9\n"
     ]
    }
   ],
   "source": [
    "i=1\n",
    "while i<10:\n",
    "    print(i)\n",
    "    if i==3:\n",
    "        pass\n",
    "    i+=1"
   ]
  },
  {
   "cell_type": "code",
   "execution_count": 5,
   "id": "d6dae063",
   "metadata": {},
   "outputs": [
    {
     "name": "stdout",
     "output_type": "stream",
     "text": [
      "keyboard\n",
      "printer\n",
      "mouse\n",
      "monitor\n"
     ]
    }
   ],
   "source": [
    "#FOR LOOP\n",
    "hardware =['keyboard','printer','mouse','monitor']\n",
    "for x in hardware:\n",
    "    print(x)"
   ]
  },
  {
   "cell_type": "code",
   "execution_count": 6,
   "id": "7192a471",
   "metadata": {},
   "outputs": [
    {
     "name": "stdout",
     "output_type": "stream",
     "text": [
      "0\n",
      "1\n",
      "2\n",
      "3\n",
      "4\n",
      "5\n",
      "6\n"
     ]
    }
   ],
   "source": [
    "for x in range(7):\n",
    "    print(x)"
   ]
  },
  {
   "cell_type": "code",
   "execution_count": 7,
   "id": "9249da2a",
   "metadata": {},
   "outputs": [
    {
     "name": "stdout",
     "output_type": "stream",
     "text": [
      "2\n",
      "3\n",
      "4\n",
      "5\n",
      "6\n"
     ]
    }
   ],
   "source": [
    "for x in range(2,7):\n",
    "    print(x)"
   ]
  },
  {
   "cell_type": "code",
   "execution_count": 8,
   "id": "5f80add8",
   "metadata": {},
   "outputs": [
    {
     "name": "stdout",
     "output_type": "stream",
     "text": [
      "1\n",
      "2\n",
      "6\n",
      "24\n",
      "120\n",
      "720\n",
      "5040\n",
      "40320\n",
      "362880\n"
     ]
    }
   ],
   "source": [
    "fact=1\n",
    "n=10\n",
    "for i in range(1,n):\n",
    "    fact=fact*i\n",
    "    print(fact)\n"
   ]
  },
  {
   "cell_type": "code",
   "execution_count": 9,
   "id": "8a386ec0",
   "metadata": {},
   "outputs": [
    {
     "name": "stdout",
     "output_type": "stream",
     "text": [
      "enter the number:3\n",
      "multiplication table:\n",
      "3 x 1 = 3\n",
      "3 x 2 = 6\n",
      "3 x 3 = 9\n",
      "3 x 4 = 12\n",
      "3 x 5 = 15\n",
      "3 x 6 = 18\n",
      "3 x 7 = 21\n",
      "3 x 8 = 24\n",
      "3 x 9 = 27\n",
      "3 x 10 = 30\n"
     ]
    }
   ],
   "source": [
    "#printing a table using for loop\n",
    "num=int(input(\"enter the number:\"))\n",
    "i=1\n",
    "print('multiplication table:')\n",
    "for i in range(1,11):\n",
    "    print(num,'x',i,'=',num*i)"
   ]
  },
  {
   "cell_type": "code",
   "execution_count": 10,
   "id": "91990002",
   "metadata": {},
   "outputs": [
    {
     "name": "stdout",
     "output_type": "stream",
     "text": [
      "3\n"
     ]
    }
   ],
   "source": [
    "a=2\n",
    "b=3\n",
    "c=max((a,b))\n",
    "print(c)"
   ]
  },
  {
   "cell_type": "code",
   "execution_count": 11,
   "id": "8fdc164c",
   "metadata": {},
   "outputs": [
    {
     "name": "stdout",
     "output_type": "stream",
     "text": [
      "5\n"
     ]
    }
   ],
   "source": [
    "a=2\n",
    "b=3\n",
    "c=sum((a,b))\n",
    "print(c)"
   ]
  },
  {
   "cell_type": "code",
   "execution_count": 12,
   "id": "0460ea71",
   "metadata": {
    "scrolled": true
   },
   "outputs": [
    {
     "name": "stdout",
     "output_type": "stream",
     "text": [
      "4\n"
     ]
    }
   ],
   "source": [
    "def percentage(tot):\n",
    "    per = tot/500*100\n",
    "    return per\n",
    "a=2\n",
    "def my_function():\n",
    "    b=a*a\n",
    "    print(b)\n",
    "my_function()"
   ]
  },
  {
   "cell_type": "code",
   "execution_count": 13,
   "id": "d79cf5e6",
   "metadata": {},
   "outputs": [
    {
     "name": "stdout",
     "output_type": "stream",
     "text": [
      "your total no. 282\n",
      "your persentage is 56.4\n"
     ]
    }
   ],
   "source": [
    "phy=45\n",
    "che=33\n",
    "math=67\n",
    "hindi=68\n",
    "eng=69\n",
    "tot=sum((phy,che,math,hindi,eng))\n",
    "result=percentage(tot)\n",
    "print(\"your total no.\",tot)\n",
    "print(\"your persentage is\",round(result,2))\n"
   ]
  },
  {
   "cell_type": "code",
   "execution_count": 14,
   "id": "91c6f9f3",
   "metadata": {},
   "outputs": [
    {
     "name": "stdout",
     "output_type": "stream",
     "text": [
      "-----------------\n",
      "your total no. 282\n",
      "-----------------\n",
      "your persentage is 56.4\n",
      "-----------------\n"
     ]
    }
   ],
   "source": [
    "def printline():\n",
    "    print(\"-----------------\")\n",
    "def percentage(tot):\n",
    "    per = tot/500*100\n",
    "    return per\n",
    "phy=45\n",
    "che=33\n",
    "math=67\n",
    "hindi=68\n",
    "eng=69\n",
    "tot=sum((phy,che,math,hindi,eng))\n",
    "result=percentage(tot)\n",
    "printline()\n",
    "print(\"your total no.\",tot)\n",
    "printline()\n",
    "print(\"your persentage is\",round(result,2))\n",
    "printline()\n"
   ]
  },
  {
   "cell_type": "code",
   "execution_count": 15,
   "id": "29017f8f",
   "metadata": {},
   "outputs": [
    {
     "name": "stdout",
     "output_type": "stream",
     "text": [
      "4\n"
     ]
    }
   ],
   "source": [
    "#ONE LINE FUNCTION\n",
    "def sqt(a):\n",
    "    print(a*a)\n",
    "sqt(2)"
   ]
  },
  {
   "cell_type": "code",
   "execution_count": 16,
   "id": "13780e7e",
   "metadata": {},
   "outputs": [
    {
     "name": "stdout",
     "output_type": "stream",
     "text": [
      "4\n"
     ]
    }
   ],
   "source": [
    "#LAMBDA FUNCTION\n",
    "sqt = lambda a:a*a\n",
    "print(sqt(2))"
   ]
  },
  {
   "cell_type": "code",
   "execution_count": 17,
   "id": "d1d43cd4",
   "metadata": {},
   "outputs": [
    {
     "name": "stdout",
     "output_type": "stream",
     "text": [
      "welcome amit\n"
     ]
    }
   ],
   "source": [
    "def add(name):\n",
    "    print(\"welcome\",name)\n",
    "add(\"amit\")"
   ]
  },
  {
   "cell_type": "code",
   "execution_count": 18,
   "id": "26937787",
   "metadata": {},
   "outputs": [
    {
     "name": "stdout",
     "output_type": "stream",
     "text": [
      "300\n"
     ]
    }
   ],
   "source": [
    "def add(x,y):\n",
    "    z=x+y\n",
    "    print(z)\n",
    "add(100,200)"
   ]
  },
  {
   "cell_type": "code",
   "execution_count": 19,
   "id": "4547c922",
   "metadata": {},
   "outputs": [
    {
     "name": "stdout",
     "output_type": "stream",
     "text": [
      "300 20000 300 -100\n"
     ]
    }
   ],
   "source": [
    "def add(x,y):\n",
    "    A=x+y\n",
    "    B=x*y\n",
    "    C=x+y\n",
    "    D=x-y\n",
    "    print(A,B,C,D)\n",
    "add(100,200)"
   ]
  },
  {
   "cell_type": "code",
   "execution_count": 20,
   "id": "bdba14d4",
   "metadata": {},
   "outputs": [
    {
     "name": "stdout",
     "output_type": "stream",
     "text": [
      "Wed Jan 26 22:35:40 2022\n"
     ]
    }
   ],
   "source": [
    "import time;\n",
    "localtime = time.asctime(time.localtime(time.time()))\n",
    "print(localtime)"
   ]
  },
  {
   "cell_type": "code",
   "execution_count": 21,
   "id": "7e305541",
   "metadata": {},
   "outputs": [
    {
     "name": "stdout",
     "output_type": "stream",
     "text": [
      "calendar:        May 2022\n",
      "Mo Tu We Th Fr Sa Su\n",
      "                   1\n",
      " 2  3  4  5  6  7  8\n",
      " 9 10 11 12 13 14 15\n",
      "16 17 18 19 20 21 22\n",
      "23 24 25 26 27 28 29\n",
      "30 31\n",
      "\n"
     ]
    }
   ],
   "source": [
    "import calendar;\n",
    "cal = calendar.month(2022,5)\n",
    "print('calendar: ',cal)\n"
   ]
  },
  {
   "cell_type": "code",
   "execution_count": 25,
   "id": "5a660d51",
   "metadata": {},
   "outputs": [
    {
     "ename": "ModuleNotFoundError",
     "evalue": "No module named 'mymodule'",
     "output_type": "error",
     "traceback": [
      "\u001b[1;31m---------------------------------------------------------------------------\u001b[0m",
      "\u001b[1;31mModuleNotFoundError\u001b[0m                       Traceback (most recent call last)",
      "\u001b[1;32m~\\AppData\\Local\\Temp/ipykernel_40016/71064804.py\u001b[0m in \u001b[0;36m<module>\u001b[1;34m\u001b[0m\n\u001b[1;32m----> 1\u001b[1;33m \u001b[1;32mimport\u001b[0m \u001b[0mmymodule\u001b[0m\u001b[1;33m\u001b[0m\u001b[1;33m\u001b[0m\u001b[0m\n\u001b[0m\u001b[0;32m      2\u001b[0m \u001b[0mres\u001b[0m \u001b[1;33m=\u001b[0m\u001b[0mmymodule\u001b[0m\u001b[1;33m.\u001b[0m\u001b[0msqrt\u001b[0m\u001b[1;33m(\u001b[0m\u001b[1;36m2\u001b[0m\u001b[1;33m)\u001b[0m\u001b[1;33m\u001b[0m\u001b[1;33m\u001b[0m\u001b[0m\n\u001b[0;32m      3\u001b[0m \u001b[0mprint\u001b[0m\u001b[1;33m(\u001b[0m\u001b[0mres\u001b[0m\u001b[1;33m)\u001b[0m\u001b[1;33m\u001b[0m\u001b[1;33m\u001b[0m\u001b[0m\n",
      "\u001b[1;31mModuleNotFoundError\u001b[0m: No module named 'mymodule'"
     ]
    }
   ],
   "source": [
    "import mymodule\n",
    "res =mymodule.sqrt(2)\n",
    "print(res)"
   ]
  },
  {
   "cell_type": "code",
   "execution_count": 23,
   "id": "41ebec70",
   "metadata": {},
   "outputs": [],
   "source": [
    "import mymodule\n",
    "res =mymodule.cube(2)\n",
    "print(res)"
   ]
  },
  {
   "cell_type": "code",
   "execution_count": 26,
   "id": "182ca91d",
   "metadata": {},
   "outputs": [
    {
     "ename": "ModuleNotFoundError",
     "evalue": "No module named 'mymodule'",
     "output_type": "error",
     "traceback": [
      "\u001b[1;31m---------------------------------------------------------------------------\u001b[0m",
      "\u001b[1;31mModuleNotFoundError\u001b[0m                       Traceback (most recent call last)",
      "\u001b[1;32m~\\AppData\\Local\\Temp/ipykernel_40016/2835335320.py\u001b[0m in \u001b[0;36m<module>\u001b[1;34m\u001b[0m\n\u001b[1;32m----> 1\u001b[1;33m \u001b[1;32mimport\u001b[0m \u001b[0mmymodule\u001b[0m \u001b[1;32mas\u001b[0m \u001b[0msq\u001b[0m\u001b[1;33m\u001b[0m\u001b[1;33m\u001b[0m\u001b[0m\n\u001b[0m\u001b[0;32m      2\u001b[0m \u001b[0mres\u001b[0m \u001b[1;33m=\u001b[0m \u001b[0msq\u001b[0m\u001b[1;33m.\u001b[0m\u001b[0msqrt\u001b[0m\u001b[1;33m(\u001b[0m\u001b[1;36m2\u001b[0m\u001b[1;33m)\u001b[0m\u001b[1;33m\u001b[0m\u001b[1;33m\u001b[0m\u001b[0m\n\u001b[0;32m      3\u001b[0m \u001b[0mprint\u001b[0m\u001b[1;33m(\u001b[0m\u001b[0mres\u001b[0m\u001b[1;33m)\u001b[0m\u001b[1;33m\u001b[0m\u001b[1;33m\u001b[0m\u001b[0m\n",
      "\u001b[1;31mModuleNotFoundError\u001b[0m: No module named 'mymodule'"
     ]
    }
   ],
   "source": [
    "import mymodule as sq\n",
    "res = sq.sqrt(2)\n",
    "print(res)"
   ]
  },
  {
   "cell_type": "code",
   "execution_count": null,
   "id": "a816adac",
   "metadata": {},
   "outputs": [],
   "source": []
  }
 ],
 "metadata": {
  "kernelspec": {
   "display_name": "Python 3 (ipykernel)",
   "language": "python",
   "name": "python3"
  },
  "language_info": {
   "codemirror_mode": {
    "name": "ipython",
    "version": 3
   },
   "file_extension": ".py",
   "mimetype": "text/x-python",
   "name": "python",
   "nbconvert_exporter": "python",
   "pygments_lexer": "ipython3",
   "version": "3.9.7"
  }
 },
 "nbformat": 4,
 "nbformat_minor": 5
}
