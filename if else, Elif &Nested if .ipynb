{
 "cells": [
  {
   "cell_type": "code",
   "execution_count": 1,
   "id": "c98317e8",
   "metadata": {},
   "outputs": [
    {
     "name": "stdout",
     "output_type": "stream",
     "text": [
      "a is not greater than b\n"
     ]
    }
   ],
   "source": [
    "a = 3\n",
    "b = 5\n",
    "if a>b:\n",
    "    print(\"a is greater than b\")\n",
    "else:\n",
    "    print(\"a is not greater than b\")"
   ]
  },
  {
   "cell_type": "code",
   "execution_count": 2,
   "id": "0a21593f",
   "metadata": {},
   "outputs": [
    {
     "name": "stdout",
     "output_type": "stream",
     "text": [
      "true\n"
     ]
    }
   ],
   "source": [
    "a = 5\n",
    "b = 3\n",
    "if a>b:\n",
    "    print(\"true\")"
   ]
  },
  {
   "cell_type": "code",
   "execution_count": 3,
   "id": "9862e3f7",
   "metadata": {},
   "outputs": [
    {
     "name": "stdout",
     "output_type": "stream",
     "text": [
      "enter 1st number:5\n",
      "enter 2nd number:7\n",
      "b is greater than a\n"
     ]
    }
   ],
   "source": [
    "a=int(input(\"enter 1st number:\"))\n",
    "b=int(input(\"enter 2nd number:\"))\n",
    "if a>b:\n",
    "    print(\"a is greater than b\")\n",
    "else:\n",
    "    print(\"b is greater than a\")"
   ]
  },
  {
   "cell_type": "code",
   "execution_count": 4,
   "id": "4ab6d093",
   "metadata": {},
   "outputs": [
    {
     "name": "stdout",
     "output_type": "stream",
     "text": [
      "enter any number: 67\n",
      "the number is odd no. : \n"
     ]
    }
   ],
   "source": [
    "no=int(input(\"enter any number: \"))\n",
    "if no % 2 == 0:\n",
    "    print(\"the number is even no. : \")\n",
    "else:\n",
    "    print(\"the number is odd no. : \")"
   ]
  },
  {
   "cell_type": "code",
   "execution_count": 5,
   "id": "3167a512",
   "metadata": {},
   "outputs": [
    {
     "name": "stdout",
     "output_type": "stream",
     "text": [
      "enter ahy number:78\n",
      "greater than 10\n",
      "and also greater 20!\n"
     ]
    }
   ],
   "source": [
    "a=int(input(\"enter ahy number:\"))\n",
    "if a>10:\n",
    "    print(\"greater than 10\")\n",
    "if a>20:\n",
    "    print(\"and also greater 20!\")\n",
    "else:\n",
    "    print(\"but not greater 20\")"
   ]
  },
  {
   "cell_type": "code",
   "execution_count": 6,
   "id": "b444a3a5",
   "metadata": {},
   "outputs": [
    {
     "name": "stdout",
     "output_type": "stream",
     "text": [
      "inter your age:45\n",
      "you are aligible for voting\n"
     ]
    }
   ],
   "source": [
    "age=int(input(\"inter your age:\"))\n",
    "if (age>18):\n",
    "    print('you are aligible for voting')\n",
    "else:\n",
    "    print('you are not aligibe for voting')"
   ]
  },
  {
   "cell_type": "code",
   "execution_count": 7,
   "id": "cb794b43",
   "metadata": {},
   "outputs": [
    {
     "name": "stdout",
     "output_type": "stream",
     "text": [
      "enter your marks:75\n",
      "B\n"
     ]
    }
   ],
   "source": [
    "marks=int(input('enter your marks:'))\n",
    "if marks>=90:\n",
    "    print(\"A+\")\n",
    "elif marks>=80:\n",
    "    print(\"A\")\n",
    "elif marks>=70:\n",
    "    print(\"B\")\n",
    "elif marks>=60:\n",
    "    print(\"c\")\n",
    "elif marks>=50:\n",
    "    print(\"D\")\n",
    "else:\n",
    "    print(\"fail\")\n",
    "    "
   ]
  },
  {
   "cell_type": "code",
   "execution_count": 8,
   "id": "d7bb2075",
   "metadata": {},
   "outputs": [
    {
     "name": "stdout",
     "output_type": "stream",
     "text": [
      "enter your labour's hours67\n",
      "enter your hourly time7\n",
      "you earned rs 563.5\n"
     ]
    }
   ],
   "source": [
    "hour=int(input(\"enter your labour's hours\"))\n",
    "rate= float(input(\"enter your hourly time\"))\n",
    "payout=0;\n",
    "if hour<=40:\n",
    "    payout=rate*40\n",
    "else:\n",
    "    payout=((rate*40)+(rate*1.5)*abs(hour-40))\n",
    "    print('you earned rs',payout)\n",
    "    "
   ]
  },
  {
   "cell_type": "code",
   "execution_count": 3,
   "id": "ec728850",
   "metadata": {},
   "outputs": [
    {
     "name": "stdout",
     "output_type": "stream",
     "text": [
      "enter first no.70\n",
      "enter second no.60\n",
      "enter third no.50\n",
      "70\n"
     ]
    }
   ],
   "source": [
    "a=int(input(\"enter first no.\"))\n",
    "b=int(input(\"enter second no.\"))\n",
    "c=int(input(\"enter third no.\"))\n",
    "# a=70\n",
    "# b=60\n",
    "# c=50\n",
    "if(a>b) and (a>c):\n",
    "    print(a)\n",
    "elif(b<a) and (b>c):\n",
    "    print(b)\n",
    "elif(c<a) and (c<a):\n",
    "    print(c)\n",
    "else:\n",
    "    print(null)"
   ]
  },
  {
   "cell_type": "code",
   "execution_count": 6,
   "id": "65d36823",
   "metadata": {},
   "outputs": [
    {
     "name": "stdout",
     "output_type": "stream",
     "text": [
      "enter the unit350\n",
      "2000\n"
     ]
    }
   ],
   "source": [
    "#WAP to calculate electricity bil(accept no.)\n",
    "unit = int(input(\"enter the unit\"))\n",
    "if(unit<=100):\n",
    "    print('No charge')\n",
    "elif (unit<=200):\n",
    "    print((unit-100)*5)\n",
    "else:\n",
    "    print((unit-200)*10+500)"
   ]
  },
  {
   "cell_type": "code",
   "execution_count": null,
   "id": "53f05562",
   "metadata": {},
   "outputs": [],
   "source": []
  }
 ],
 "metadata": {
  "kernelspec": {
   "display_name": "Python 3 (ipykernel)",
   "language": "python",
   "name": "python3"
  },
  "language_info": {
   "codemirror_mode": {
    "name": "ipython",
    "version": 3
   },
   "file_extension": ".py",
   "mimetype": "text/x-python",
   "name": "python",
   "nbconvert_exporter": "python",
   "pygments_lexer": "ipython3",
   "version": "3.9.7"
  }
 },
 "nbformat": 4,
 "nbformat_minor": 5
}
